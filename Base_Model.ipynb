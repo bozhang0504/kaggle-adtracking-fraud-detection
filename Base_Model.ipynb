{
 "cells": [
  {
   "cell_type": "code",
   "execution_count": 59,
   "metadata": {
    "collapsed": false
   },
   "outputs": [],
   "source": [
    "import pandas as pd \n",
    "import numpy as np\n",
    "import matplotlib.pyplot as plt\n",
    "from sklearn.linear_model import LogisticRegression\n",
    "from sklearn.ensemble import RandomForestClassifier\n",
    "from sklearn import metrics\n",
    "import xgboost as xgb\n",
    "\n",
    "%matplotlib inline "
   ]
  },
  {
   "cell_type": "code",
   "execution_count": 2,
   "metadata": {
    "collapsed": false
   },
   "outputs": [
    {
     "name": "stdout",
     "output_type": "stream",
     "text": [
      "sample_submission.csv test.csv              train_sample.csv\r\n"
     ]
    }
   ],
   "source": [
    "! ls ./data"
   ]
  },
  {
   "cell_type": "code",
   "execution_count": 3,
   "metadata": {
    "collapsed": false
   },
   "outputs": [],
   "source": [
    "dtypes = {\n",
    "    'ip': 'uint16',\n",
    "    'app': 'uint16',\n",
    "    'device': 'uint16',\n",
    "    'os': 'uint16',\n",
    "    'channel': 'uint16',\n",
    "    'is_attributed': 'int8'\n",
    "}"
   ]
  },
  {
   "cell_type": "code",
   "execution_count": 4,
   "metadata": {
    "collapsed": true
   },
   "outputs": [],
   "source": [
    "data = pd.read_csv('./data/train_sample.csv'\n",
    "                   , low_memory=False\n",
    "                   , parse_dates=['click_time', 'attributed_time']\n",
    "                   , dtype=dtypes)\n",
    "\n",
    "\n",
    "\n",
    "test = pd.read_csv('./data/test.csv'\n",
    "                   , low_memory=False\n",
    "                   , parse_dates=['click_time']\n",
    "                   , dtype=dtypes)"
   ]
  },
  {
   "cell_type": "code",
   "execution_count": 5,
   "metadata": {
    "collapsed": false
   },
   "outputs": [
    {
     "data": {
      "text/plain": [
       "(100000, 8)"
      ]
     },
     "execution_count": 5,
     "metadata": {},
     "output_type": "execute_result"
    }
   ],
   "source": [
    "data.shape"
   ]
  },
  {
   "cell_type": "code",
   "execution_count": 6,
   "metadata": {
    "collapsed": false
   },
   "outputs": [
    {
     "data": {
      "text/plain": [
       "ip                         uint16\n",
       "app                        uint16\n",
       "device                     uint16\n",
       "os                         uint16\n",
       "channel                    uint16\n",
       "click_time         datetime64[ns]\n",
       "attributed_time    datetime64[ns]\n",
       "is_attributed                int8\n",
       "dtype: object"
      ]
     },
     "execution_count": 6,
     "metadata": {},
     "output_type": "execute_result"
    }
   ],
   "source": [
    "data.dtypes"
   ]
  },
  {
   "cell_type": "markdown",
   "metadata": {},
   "source": [
    "#### Simple EDA"
   ]
  },
  {
   "cell_type": "code",
   "execution_count": 7,
   "metadata": {
    "collapsed": false
   },
   "outputs": [
    {
     "data": {
      "text/plain": [
       "0.00227"
      ]
     },
     "execution_count": 7,
     "metadata": {},
     "output_type": "execute_result"
    }
   ],
   "source": [
    "# is the data balanced?\n",
    "pos_ratio = np.sum(data['is_attributed']) * 1.0 / data.shape[0]\n",
    "pos_ratio"
   ]
  },
  {
   "cell_type": "markdown",
   "metadata": {},
   "source": [
    "It might seem data is highly unbalanced since there are only 0.23 % of samples appeared to download the APP. However, low success rate is highly possible in click rate and fraud detection case in the real world."
   ]
  },
  {
   "cell_type": "code",
   "execution_count": 8,
   "metadata": {
    "collapsed": false
   },
   "outputs": [
    {
     "data": {
      "text/plain": [
       "ip                 0.000\n",
       "app                0.000\n",
       "device             0.000\n",
       "os                 0.000\n",
       "channel            0.000\n",
       "click_time         0.000\n",
       "attributed_time    0.998\n",
       "is_attributed      0.000\n",
       "dtype: float64"
      ]
     },
     "execution_count": 8,
     "metadata": {},
     "output_type": "execute_result"
    }
   ],
   "source": [
    "def null_ratio(df): return round(np.sum(df.isna() * 1.0 / df.shape[0]), 3)\n",
    "\n",
    "null_ratio(data)"
   ]
  },
  {
   "cell_type": "markdown",
   "metadata": {},
   "source": [
    "It seems attributed_time is the only one contains null."
   ]
  },
  {
   "cell_type": "code",
   "execution_count": 9,
   "metadata": {
    "collapsed": false
   },
   "outputs": [
    {
     "data": {
      "text/plain": [
       "Index(['ip', 'app', 'device', 'os', 'channel', 'click_time', 'attributed_time',\n",
       "       'is_attributed'],\n",
       "      dtype='object')"
      ]
     },
     "execution_count": 9,
     "metadata": {},
     "output_type": "execute_result"
    }
   ],
   "source": [
    "data.columns"
   ]
  },
  {
   "cell_type": "code",
   "execution_count": 10,
   "metadata": {
    "collapsed": false
   },
   "outputs": [
    {
     "data": {
      "text/plain": [
       "[('ip', 28470),\n",
       " ('app', 161),\n",
       " ('device', 100),\n",
       " ('os', 130),\n",
       " ('channel', 161),\n",
       " ('click_time', 80350),\n",
       " ('attributed_time', 228),\n",
       " ('is_attributed', 2)]"
      ]
     },
     "execution_count": 10,
     "metadata": {},
     "output_type": "execute_result"
    }
   ],
   "source": [
    "def unique_cat(df): return [(x, df[x].nunique(dropna=False)) for x in df.columns]\n",
    "\n",
    "unique_cat(data)"
   ]
  },
  {
   "cell_type": "markdown",
   "metadata": {},
   "source": [
    "It is natural to drop ip since it states that every three click is from the same ip. And a different ip address will be assigned to a device once the device is logged in."
   ]
  },
  {
   "cell_type": "markdown",
   "metadata": {},
   "source": [
    "### Define data set"
   ]
  },
  {
   "cell_type": "code",
   "execution_count": 83,
   "metadata": {
    "collapsed": true
   },
   "outputs": [],
   "source": [
    "X = data[['app','device', 'os', 'channel']]\n",
    "y = data['is_attributed']\n",
    "test_X = test[['app','device', 'os', 'channel']]\n",
    "sample = pd.read_csv('./data/sample_submission.csv')  # load sample submission "
   ]
  },
  {
   "cell_type": "markdown",
   "metadata": {},
   "source": [
    "### Baseline Model - Logistic Regression"
   ]
  },
  {
   "cell_type": "code",
   "execution_count": null,
   "metadata": {
    "collapsed": false
   },
   "outputs": [],
   "source": [
    "lr = LogisticRegression() # define logstic regression \n",
    "lr.fit(X,y)               # train lr\n",
    "\n",
    "y_pred = lr.predict_proba(test_X)[:,1] # get soft predicitons"
   ]
  },
  {
   "cell_type": "code",
   "execution_count": null,
   "metadata": {
    "collapsed": true
   },
   "outputs": [],
   "source": [
    "sample['is_attributed'] = y_pred                      # insert SOFT prediction as target variable\n",
    "sample.to_csv('sub_0.csv', index=False)               # save prediction to csv to submit "
   ]
  },
  {
   "cell_type": "markdown",
   "metadata": {},
   "source": [
    "After submitting to kaggle, the area under the ROC curve is 0.6084. We can improve this using feature engineering and other techniques. But first, lets see if rf using the same train data will lead to a better score."
   ]
  },
  {
   "cell_type": "markdown",
   "metadata": {},
   "source": [
    "### Baseline Model - Random Forest"
   ]
  },
  {
   "cell_type": "code",
   "execution_count": null,
   "metadata": {
    "collapsed": false
   },
   "outputs": [],
   "source": [
    "rf = RandomForestClassifier(n_estimators = 100, min_samples_leaf=50) # define Random Forest with 100 trees and 50 or more samples on each leaf node \n",
    "rf.fit(X,y)                                                          # train rf "
   ]
  },
  {
   "cell_type": "code",
   "execution_count": null,
   "metadata": {
    "collapsed": true
   },
   "outputs": [],
   "source": [
    "y_pred_rf = rf.predict_proba(test_X)[:,1]"
   ]
  },
  {
   "cell_type": "code",
   "execution_count": null,
   "metadata": {
    "collapsed": true
   },
   "outputs": [],
   "source": [
    "sample['is_attributed'] = y_pred_rf\n",
    "sample.to_csv('sub_1_rf.csv', index=False)"
   ]
  },
  {
   "cell_type": "markdown",
   "metadata": {},
   "source": [
    "### Baseline Model - XGBoost\n",
    "\n",
    "https://www.analyticsvidhya.com/blog/2016/03/complete-guide-parameter-tuning-xgboost-with-codes-python/"
   ]
  },
  {
   "cell_type": "code",
   "execution_count": 30,
   "metadata": {
    "collapsed": false
   },
   "outputs": [],
   "source": [
    "xgb_model = xgb.XGBClassifier(\n",
    "                learning_rate =0.1,\n",
    "                n_estimators=500,\n",
    "                max_depth=5,\n",
    "                min_child_weight=1,\n",
    "                gamma=0,\n",
    "                subsample=0.8,\n",
    "                colsample_bytree=0.8,\n",
    "                objective= 'binary:logistic',\n",
    "                nthread=4,\n",
    "                scale_pos_weight=1,\n",
    "                seed=228)"
   ]
  },
  {
   "cell_type": "code",
   "execution_count": 31,
   "metadata": {
    "collapsed": false
   },
   "outputs": [
    {
     "data": {
      "text/plain": [
       "XGBClassifier(base_score=0.5, booster='gbtree', colsample_bylevel=1,\n",
       "       colsample_bytree=0.8, gamma=0, learning_rate=0.1, max_delta_step=0,\n",
       "       max_depth=5, min_child_weight=1, missing=None, n_estimators=500,\n",
       "       n_jobs=1, nthread=4, objective='binary:logistic', random_state=0,\n",
       "       reg_alpha=0, reg_lambda=1, scale_pos_weight=1, seed=228,\n",
       "       silent=True, subsample=0.8)"
      ]
     },
     "execution_count": 31,
     "metadata": {},
     "output_type": "execute_result"
    }
   ],
   "source": [
    "xgb_model.fit(X,y)"
   ]
  },
  {
   "cell_type": "code",
   "execution_count": 71,
   "metadata": {
    "collapsed": false
   },
   "outputs": [],
   "source": [
    "batch_size = 100000\n",
    "N_batch = int(test_X.shape[0]/batch_size)\n",
    "i = N_batch"
   ]
  },
  {
   "cell_type": "code",
   "execution_count": 72,
   "metadata": {
    "collapsed": false
   },
   "outputs": [],
   "source": [
    "batch_X = test_X.iloc[i*batch_size : (i+1)*batch_size] "
   ]
  },
  {
   "cell_type": "code",
   "execution_count": 73,
   "metadata": {
    "collapsed": false
   },
   "outputs": [
    {
     "data": {
      "text/plain": [
       "90469"
      ]
     },
     "execution_count": 73,
     "metadata": {},
     "output_type": "execute_result"
    }
   ],
   "source": [
    "len(batch_X)"
   ]
  },
  {
   "cell_type": "code",
   "execution_count": 79,
   "metadata": {
    "collapsed": false
   },
   "outputs": [],
   "source": [
    "def batch_pred(model, X, batch_size=100000):\n",
    "    \n",
    "    N_batch = int(X.shape[0]/batch_size)\n",
    "    pred = []\n",
    "    \n",
    "    for i in range(N_batch+1):\n",
    "        if i%10 == 0:\n",
    "            print(\"finished batch %d/%d\" %(i+1, N_batch+1))\n",
    "        \n",
    "        batch_X = X.iloc[i*batch_size : (i+1)*batch_size] \n",
    "        batch_pred = model.predict_proba(batch_X)[:,1]\n",
    "        pred.extend(list(batch_pred))\n",
    "    \n",
    "    return pred"
   ]
  },
  {
   "cell_type": "code",
   "execution_count": 80,
   "metadata": {
    "collapsed": false
   },
   "outputs": [
    {
     "name": "stdout",
     "output_type": "stream",
     "text": [
      "finished batch 1/188\n",
      "finished batch 11/188\n",
      "finished batch 21/188\n",
      "finished batch 31/188\n",
      "finished batch 41/188\n",
      "finished batch 51/188\n",
      "finished batch 61/188\n",
      "finished batch 71/188\n",
      "finished batch 81/188\n",
      "finished batch 91/188\n",
      "finished batch 101/188\n",
      "finished batch 111/188\n",
      "finished batch 121/188\n",
      "finished batch 131/188\n",
      "finished batch 141/188\n",
      "finished batch 151/188\n",
      "finished batch 161/188\n",
      "finished batch 171/188\n",
      "finished batch 181/188\n"
     ]
    }
   ],
   "source": [
    "pred_xgb = batch_pred(xgb_model, test_X)"
   ]
  },
  {
   "cell_type": "code",
   "execution_count": 91,
   "metadata": {
    "collapsed": false
   },
   "outputs": [],
   "source": [
    "sample['is_attributed'] = pred"
   ]
  },
  {
   "cell_type": "code",
   "execution_count": 92,
   "metadata": {
    "collapsed": true
   },
   "outputs": [],
   "source": [
    "sample.to_csv('./output/sub_2_xgb.csv', index=False)"
   ]
  },
  {
   "cell_type": "code",
   "execution_count": null,
   "metadata": {
    "collapsed": true
   },
   "outputs": [],
   "source": []
  }
 ],
 "metadata": {
  "kernelspec": {
   "display_name": "Python 3",
   "language": "python",
   "name": "python3"
  },
  "language_info": {
   "codemirror_mode": {
    "name": "ipython",
    "version": 3
   },
   "file_extension": ".py",
   "mimetype": "text/x-python",
   "name": "python",
   "nbconvert_exporter": "python",
   "pygments_lexer": "ipython3",
   "version": "3.6.0"
  }
 },
 "nbformat": 4,
 "nbformat_minor": 2
}
