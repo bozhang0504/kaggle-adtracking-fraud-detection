{
 "cells": [
  {
   "cell_type": "code",
   "execution_count": 1,
   "metadata": {},
   "outputs": [],
   "source": [
    "import pandas as pd\n",
    "import numpy as np\n",
    "import lightgbm as lgb\n",
    "import gc\n",
    "import matplotlib.pyplot as plt"
   ]
  },
  {
   "cell_type": "code",
   "execution_count": 2,
   "metadata": {},
   "outputs": [
    {
     "data": {
      "text/plain": [
       "0"
      ]
     },
     "execution_count": 2,
     "metadata": {},
     "output_type": "execute_result"
    }
   ],
   "source": [
    "gc.collect()"
   ]
  },
  {
   "cell_type": "markdown",
   "metadata": {},
   "source": [
    "### data 1: concat_df"
   ]
  },
  {
   "cell_type": "code",
   "execution_count": 3,
   "metadata": {},
   "outputs": [],
   "source": [
    "dtypes = {  \n",
    "            'ip'            : 'uint32',\n",
    "            'app'           : 'uint16',\n",
    "            'device'        : 'uint16',\n",
    "            'os'            : 'uint16',\n",
    "            'channel'       : 'uint16',\n",
    "            'day'           : 'uint8',\n",
    "            'hour'          : 'uint8',\n",
    "            'minute'        : 'uint8',\n",
    "            'ip_count'      : 'uint32',\n",
    "            'ip_day_hour_minute_count' : 'uint32',\n",
    "            'os_device_count'          : 'uint32',\n",
    "            'os_app_channel_count'     : 'uint32',\n",
    "            #'ip_day_hour_count'        : 'uint32',\n",
    "            #'ip_app_count'             : 'uint32',\n",
    "            #'ip_app_os_count'          : 'uint32',\n",
    "            'ip_device_count'          : 'uint32',\n",
    "            'app_channel_count'        : 'uint32',\n",
    "            'next_click'               : 'int64',\n",
    "            'prev_click'               : 'int64'        \n",
    "            }\n",
    "\n",
    "to_read = ['ip', 'app', 'device', 'os', 'channel', 'day', 'hour', 'minute',\n",
    "            'ip_count', 'ip_day_hour_minute_count',\n",
    "            'os_device_count',\n",
    "            'os_app_channel_count',\n",
    "            #'ip_day_hour_count',\n",
    "            #'ip_app_count',\n",
    "            #'ip_app_os_count',\n",
    "            'ip_device_count',\n",
    "            'app_channel_count',\n",
    "            'next_click',\n",
    "            'prev_click'\n",
    "          ]"
   ]
  },
  {
   "cell_type": "code",
   "execution_count": 4,
   "metadata": {},
   "outputs": [],
   "source": [
    "concat_df_tmp = pd.read_csv('tmp/concat_df.csv.gz', compression='gzip', dtype=dtypes, usecols=to_read, chunksize = 10**6)\n",
    "concat_df = pd.concat(concat_df_tmp)"
   ]
  },
  {
   "cell_type": "code",
   "execution_count": 5,
   "metadata": {},
   "outputs": [
    {
     "data": {
      "text/plain": [
       "406"
      ]
     },
     "execution_count": 5,
     "metadata": {},
     "output_type": "execute_result"
    }
   ],
   "source": [
    "del concat_df_tmp\n",
    "gc.collect()"
   ]
  },
  {
   "cell_type": "markdown",
   "metadata": {},
   "source": [
    "### data 2: time feature"
   ]
  },
  {
   "cell_type": "code",
   "execution_count": 6,
   "metadata": {},
   "outputs": [],
   "source": [
    "time_feature = pd.read_csv('tmp/time_diff.csv.gz', compression='gzip', usecols=['log2_time_diff_first_seen'])"
   ]
  },
  {
   "cell_type": "markdown",
   "metadata": {},
   "source": [
    "### data 3: agg future"
   ]
  },
  {
   "cell_type": "code",
   "execution_count": 7,
   "metadata": {},
   "outputs": [],
   "source": [
    "agg_dtype = {\n",
    "    'nuniq_ip_channel':            'uint32',\n",
    "    'cumcnt_ip_device_os_app':     'uint32',\n",
    "    'nuniq_ip_day_hour':           'uint32',\n",
    "    'nuniq_ip_app':                'uint32',\n",
    "    'nuniq_ip_app_os':             'uint32',\n",
    "    'nuniq_ip_device':             'uint32',\n",
    "    'nuniq_app_channel':           'uint32',\n",
    "    'cumcnt_ip_os':                'uint32',\n",
    "    'nuniq_ip_device_os_app':      'uint32',\n",
    "    'ip_tcount':                   'uint32',\n",
    "    'ip_app_count':                'uint32',\n",
    "    'ip_app_os_count':             'uint32',\n",
    "    'ip_tchan_count':              'float32',\n",
    "    'ip_app_os_var':               'float32',\n",
    "    'ip_app_channel_var_day':      'float32',\n",
    "    'ip_app_channel_mean_hour':    'float32'\n",
    "}\n",
    "\n",
    "agg_to_read = ['nuniq_ip_channel', \n",
    "               'cumcnt_ip_device_os_app',\n",
    "               'nuniq_ip_day_hour',\n",
    "               'nuniq_ip_app',\n",
    "               'nuniq_ip_app_os',\n",
    "               'nuniq_ip_device',\n",
    "               'nuniq_app_channel',\n",
    "               'cumcnt_ip_os',\n",
    "               'nuniq_ip_device_os_app',\n",
    "               'ip_tcount',\n",
    "               'ip_app_count',\n",
    "               'ip_app_os_count',\n",
    "               'ip_tchan_count',\n",
    "               'ip_app_os_var',\n",
    "               'ip_app_channel_var_day',\n",
    "               'ip_app_channel_mean_hour']"
   ]
  },
  {
   "cell_type": "code",
   "execution_count": 8,
   "metadata": {},
   "outputs": [],
   "source": [
    "agg_feature_tmp = pd.read_csv('tmp/agg_features.csv.gz', compression='gzip', dtype=agg_dtype, \n",
    "                              usecols=agg_to_read, chunksize=10**6)\n",
    "\n",
    "agg_feature = pd.concat(agg_feature_tmp)"
   ]
  },
  {
   "cell_type": "code",
   "execution_count": 9,
   "metadata": {},
   "outputs": [
    {
     "data": {
      "text/plain": [
       "406"
      ]
     },
     "execution_count": 9,
     "metadata": {},
     "output_type": "execute_result"
    }
   ],
   "source": [
    "del agg_feature_tmp\n",
    "gc.collect()"
   ]
  },
  {
   "cell_type": "code",
   "execution_count": 10,
   "metadata": {},
   "outputs": [],
   "source": [
    "fill_agg = ['ip_tchan_count','ip_app_os_var','ip_app_channel_var_day','ip_app_channel_mean_hour']\n",
    "agg_feature[fill_agg] = agg_feature[fill_agg].fillna(agg_feature[fill_agg].mean())"
   ]
  },
  {
   "cell_type": "markdown",
   "metadata": {},
   "source": [
    "### data 4: isolation forest score"
   ]
  },
  {
   "cell_type": "code",
   "execution_count": 11,
   "metadata": {},
   "outputs": [],
   "source": [
    "if_score = pd.read_csv('tmp/if_score_v2.csv.gz', compression='gzip', dtype={'if_score':'float16'})"
   ]
  },
  {
   "cell_type": "code",
   "execution_count": 12,
   "metadata": {},
   "outputs": [
    {
     "data": {
      "text/plain": [
       "7"
      ]
     },
     "execution_count": 12,
     "metadata": {},
     "output_type": "execute_result"
    }
   ],
   "source": [
    "gc.collect()"
   ]
  },
  {
   "cell_type": "markdown",
   "metadata": {},
   "source": [
    "### concat all"
   ]
  },
  {
   "cell_type": "code",
   "execution_count": 17,
   "metadata": {},
   "outputs": [],
   "source": [
    "concat_df = pd.concat([concat_df, time_feature, agg_feature, if_score], axis=1)"
   ]
  },
  {
   "cell_type": "code",
   "execution_count": 18,
   "metadata": {},
   "outputs": [
    {
     "data": {
      "text/plain": [
       "123"
      ]
     },
     "execution_count": 18,
     "metadata": {},
     "output_type": "execute_result"
    }
   ],
   "source": [
    "del time_feature, agg_feature, if_score\n",
    "gc.collect()"
   ]
  },
  {
   "cell_type": "code",
   "execution_count": 19,
   "metadata": {},
   "outputs": [],
   "source": [
    "train_y = pd.read_csv('tmp/train_y.csv.gz', compression='gzip')"
   ]
  },
  {
   "cell_type": "code",
   "execution_count": 20,
   "metadata": {},
   "outputs": [],
   "source": [
    "y = train_y['is_attributed'].values"
   ]
  },
  {
   "cell_type": "code",
   "execution_count": 21,
   "metadata": {},
   "outputs": [],
   "source": [
    "def log_bin_feature(df, features):\n",
    "    for fea in features: \n",
    "        df[fea]= np.log2(1 + df[fea].values).astype(int)"
   ]
  },
  {
   "cell_type": "code",
   "execution_count": 22,
   "metadata": {},
   "outputs": [],
   "source": [
    "features = ['ip_count',\n",
    "            'ip_day_hour_minute_count',\n",
    "            'os_device_count',\n",
    "            'os_app_channel_count',\n",
    "            'ip_tcount',\n",
    "            'ip_app_count',\n",
    "            'ip_app_os_count',\n",
    "            'ip_device_count',\n",
    "            'app_channel_count',\n",
    "            'nuniq_ip_channel',\n",
    "            'cumcnt_ip_device_os_app',\n",
    "            'nuniq_ip_day_hour',\n",
    "            'nuniq_ip_app',\n",
    "            'nuniq_ip_app_os',\n",
    "            'nuniq_ip_device',\n",
    "            'nuniq_app_channel',\n",
    "            'cumcnt_ip_os',\n",
    "            'nuniq_ip_device_os_app',\n",
    "            'next_click',\n",
    "            'prev_click']\n",
    "\n",
    "log_bin_feature(concat_df, features)"
   ]
  },
  {
   "cell_type": "code",
   "execution_count": 23,
   "metadata": {},
   "outputs": [
    {
     "data": {
      "text/plain": [
       "142"
      ]
     },
     "execution_count": 23,
     "metadata": {},
     "output_type": "execute_result"
    }
   ],
   "source": [
    "gc.collect()"
   ]
  },
  {
   "cell_type": "markdown",
   "metadata": {},
   "source": [
    "### Define Model"
   ]
  },
  {
   "cell_type": "code",
   "execution_count": 24,
   "metadata": {},
   "outputs": [],
   "source": [
    "num_train = 40000000\n",
    "num_val = 2000000\n",
    "target = \"is_attributed\"\n",
    "categorical_features = ['app','os','channel','device', 'hour', 'day', 'minute']\n",
    "predictors = list(concat_df.columns) \n",
    "\n",
    "not_use = ['ip']\n",
    "for x in not_use: predictors.remove(x)"
   ]
  },
  {
   "cell_type": "code",
   "execution_count": 25,
   "metadata": {},
   "outputs": [],
   "source": [
    "lgbtrain = lgb.Dataset(concat_df.iloc[:(num_train-num_val)][predictors].values, label= y[:(num_train-num_val)],\n",
    "                       feature_name = predictors,\n",
    "                       categorical_feature = categorical_features,\n",
    "                       free_raw_data=True\n",
    "                      )"
   ]
  },
  {
   "cell_type": "code",
   "execution_count": 26,
   "metadata": {},
   "outputs": [
    {
     "data": {
      "text/plain": [
       "27"
      ]
     },
     "execution_count": 26,
     "metadata": {},
     "output_type": "execute_result"
    }
   ],
   "source": [
    "gc.collect()"
   ]
  },
  {
   "cell_type": "code",
   "execution_count": 27,
   "metadata": {},
   "outputs": [],
   "source": [
    "lgbval = lgb.Dataset(concat_df.iloc[(num_train-num_val):num_train][predictors].values, label= y[(num_train-num_val):],\n",
    "                     feature_name = predictors,\n",
    "                     categorical_feature = categorical_features,\n",
    "                     reference = lgbtrain,\n",
    "                     free_raw_data = True\n",
    "                     )"
   ]
  },
  {
   "cell_type": "markdown",
   "metadata": {},
   "source": [
    "lgb_params = {\n",
    "    'boosting_type': 'gbdt',\n",
    "    'objective': 'binary',\n",
    "    'subsample_for_bin': 200000,  # Number of samples for constructing bin\n",
    "    'min_split_gain': 0,  # lambda_l1, lambda_l2 and min_gain_to_split to regularization\n",
    "    'reg_alpha': 0,  # L1 regularization term on weights\n",
    "    'reg_lambda': 0,  # L2 regularization term on weights\n",
    "    'nthread': 4,\n",
    "    'verbose': 0,\n",
    "    'metric':'auc',     \n",
    " \n",
    "    'learning_rate': 0.08,\n",
    "    'num_leaves': 7,  # 2^max_depth - 1\n",
    "    'max_depth': 3,  # -1 means no limit\n",
    "    'min_child_samples': 100,  # Minimum number of data need in a child(min_data_in_leaf)\n",
    "    #'max_bin': 100,  # Number of bucketed bin for feature values\n",
    "    'subsample': 0.7,  # Subsample ratio of the training instance.\n",
    "    'subsample_freq': 1,  # frequence of subsample, <=0 means no enable\n",
    "    'colsample_bytree': 0.9,  # Subsample ratio of columns when constructing each tree.\n",
    "    'min_child_weight': 0,  # Minimum sum of instance weight(hessian) needed in a child(leaf)\n",
    "    'scale_pos_weight': 200\n",
    "}"
   ]
  },
  {
   "cell_type": "code",
   "execution_count": 28,
   "metadata": {},
   "outputs": [],
   "source": [
    "lgb_params = {\n",
    "    'metric':'auc', \n",
    "    'boosting_type': 'gbdt',\n",
    "    'objective': 'binary',\n",
    "    'nthread': 4,\n",
    "        \n",
    "    'learning_rate': 0.08,  #was .010\n",
    "    #'is_unbalance': 'true',  # replaced with scale_pos_weight argument\n",
    "    'num_leaves': 7,          # 2^max_depth - 1\n",
    "    'max_depth': 4,           # -1 means no limit\n",
    "    'min_child_samples': 100, # Minimum number of data need in a child(min_data_in_leaf)\n",
    "    #'max_bin': 100,          # Number of bucketed bin for feature values\n",
    "    'subsample': 0.7,         # Subsample ratio of the training instance.\n",
    "    'subsample_freq': 1,      # frequence of subsample, <=0 means no enable\n",
    "    'colsample_bytree': 0.9,  # Subsample ratio of columns when constructing each tree.\n",
    "    'min_child_weight': 0,    # Minimum sum of instance weight(hessian) needed in a child(leaf)\n",
    "    'scale_pos_weight': 200   # because training data is extremely unbalanced\n",
    "}"
   ]
  },
  {
   "cell_type": "code",
   "execution_count": 29,
   "metadata": {
    "scrolled": false
   },
   "outputs": [
    {
     "name": "stderr",
     "output_type": "stream",
     "text": [
      "/anaconda/lib/python3.6/site-packages/lightgbm/basic.py:1030: UserWarning: Using categorical_feature in Dataset.\n",
      "  warnings.warn('Using categorical_feature in Dataset.')\n",
      "/anaconda/lib/python3.6/site-packages/lightgbm/basic.py:671: UserWarning: categorical_feature in param dict is overrided.\n",
      "  warnings.warn('categorical_feature in param dict is overrided.')\n"
     ]
    },
    {
     "name": "stdout",
     "output_type": "stream",
     "text": [
      "[1]\ttrain's auc: 0.947499\tvalidation's auc: 0.974344\n",
      "Training until validation scores don't improve for 30 rounds.\n",
      "[2]\ttrain's auc: 0.950886\tvalidation's auc: 0.975588\n",
      "[3]\ttrain's auc: 0.951074\tvalidation's auc: 0.975449\n",
      "[4]\ttrain's auc: 0.952089\tvalidation's auc: 0.976393\n",
      "[5]\ttrain's auc: 0.952923\tvalidation's auc: 0.976488\n",
      "[6]\ttrain's auc: 0.961901\tvalidation's auc: 0.976042\n",
      "[7]\ttrain's auc: 0.961842\tvalidation's auc: 0.976052\n",
      "[8]\ttrain's auc: 0.963519\tvalidation's auc: 0.977492\n",
      "[9]\ttrain's auc: 0.964787\tvalidation's auc: 0.978202\n",
      "[10]\ttrain's auc: 0.965241\tvalidation's auc: 0.978359\n",
      "[11]\ttrain's auc: 0.967191\tvalidation's auc: 0.978641\n",
      "[12]\ttrain's auc: 0.967458\tvalidation's auc: 0.978704\n",
      "[13]\ttrain's auc: 0.968682\tvalidation's auc: 0.978316\n",
      "[14]\ttrain's auc: 0.968772\tvalidation's auc: 0.979179\n",
      "[15]\ttrain's auc: 0.969271\tvalidation's auc: 0.980412\n",
      "[16]\ttrain's auc: 0.969335\tvalidation's auc: 0.980838\n",
      "[17]\ttrain's auc: 0.969669\tvalidation's auc: 0.98106\n",
      "[18]\ttrain's auc: 0.96964\tvalidation's auc: 0.981001\n",
      "[19]\ttrain's auc: 0.969845\tvalidation's auc: 0.980833\n",
      "[20]\ttrain's auc: 0.970744\tvalidation's auc: 0.981112\n",
      "[21]\ttrain's auc: 0.971174\tvalidation's auc: 0.980811\n",
      "[22]\ttrain's auc: 0.971244\tvalidation's auc: 0.98162\n",
      "[23]\ttrain's auc: 0.971108\tvalidation's auc: 0.98177\n",
      "[24]\ttrain's auc: 0.971416\tvalidation's auc: 0.9814\n",
      "[25]\ttrain's auc: 0.972113\tvalidation's auc: 0.981605\n",
      "[26]\ttrain's auc: 0.97221\tvalidation's auc: 0.981278\n",
      "[27]\ttrain's auc: 0.972386\tvalidation's auc: 0.981277\n",
      "[28]\ttrain's auc: 0.972501\tvalidation's auc: 0.981725\n",
      "[29]\ttrain's auc: 0.972555\tvalidation's auc: 0.982355\n",
      "[30]\ttrain's auc: 0.972946\tvalidation's auc: 0.982367\n",
      "[31]\ttrain's auc: 0.973064\tvalidation's auc: 0.982359\n",
      "[32]\ttrain's auc: 0.973278\tvalidation's auc: 0.982556\n",
      "[33]\ttrain's auc: 0.973483\tvalidation's auc: 0.982622\n",
      "[34]\ttrain's auc: 0.973921\tvalidation's auc: 0.983221\n",
      "[35]\ttrain's auc: 0.97403\tvalidation's auc: 0.983417\n",
      "[36]\ttrain's auc: 0.974354\tvalidation's auc: 0.983384\n",
      "[37]\ttrain's auc: 0.974414\tvalidation's auc: 0.983614\n",
      "[38]\ttrain's auc: 0.974593\tvalidation's auc: 0.984114\n",
      "[39]\ttrain's auc: 0.974718\tvalidation's auc: 0.984144\n",
      "[40]\ttrain's auc: 0.974841\tvalidation's auc: 0.984216\n",
      "[41]\ttrain's auc: 0.974958\tvalidation's auc: 0.984241\n",
      "[42]\ttrain's auc: 0.975377\tvalidation's auc: 0.984368\n",
      "[43]\ttrain's auc: 0.975584\tvalidation's auc: 0.984439\n",
      "[44]\ttrain's auc: 0.975683\tvalidation's auc: 0.984333\n",
      "[45]\ttrain's auc: 0.975713\tvalidation's auc: 0.984286\n",
      "[46]\ttrain's auc: 0.975936\tvalidation's auc: 0.984521\n",
      "[47]\ttrain's auc: 0.976148\tvalidation's auc: 0.984635\n",
      "[48]\ttrain's auc: 0.9764\tvalidation's auc: 0.984888\n",
      "[49]\ttrain's auc: 0.976541\tvalidation's auc: 0.985022\n",
      "[50]\ttrain's auc: 0.976772\tvalidation's auc: 0.985299\n",
      "[51]\ttrain's auc: 0.976933\tvalidation's auc: 0.985602\n",
      "[52]\ttrain's auc: 0.977154\tvalidation's auc: 0.985689\n",
      "[53]\ttrain's auc: 0.977304\tvalidation's auc: 0.985704\n",
      "[54]\ttrain's auc: 0.977343\tvalidation's auc: 0.985849\n",
      "[55]\ttrain's auc: 0.977487\tvalidation's auc: 0.985934\n",
      "[56]\ttrain's auc: 0.977646\tvalidation's auc: 0.986258\n",
      "[57]\ttrain's auc: 0.977761\tvalidation's auc: 0.986418\n",
      "[58]\ttrain's auc: 0.97789\tvalidation's auc: 0.986597\n",
      "[59]\ttrain's auc: 0.978083\tvalidation's auc: 0.986694\n",
      "[60]\ttrain's auc: 0.97821\tvalidation's auc: 0.986723\n",
      "[61]\ttrain's auc: 0.978324\tvalidation's auc: 0.98673\n",
      "[62]\ttrain's auc: 0.978424\tvalidation's auc: 0.986732\n",
      "[63]\ttrain's auc: 0.978563\tvalidation's auc: 0.986966\n",
      "[64]\ttrain's auc: 0.978674\tvalidation's auc: 0.987053\n",
      "[65]\ttrain's auc: 0.978792\tvalidation's auc: 0.987186\n",
      "[66]\ttrain's auc: 0.978892\tvalidation's auc: 0.987248\n",
      "[67]\ttrain's auc: 0.979012\tvalidation's auc: 0.987394\n",
      "[68]\ttrain's auc: 0.979054\tvalidation's auc: 0.987357\n",
      "[69]\ttrain's auc: 0.979125\tvalidation's auc: 0.987464\n",
      "[70]\ttrain's auc: 0.979199\tvalidation's auc: 0.987556\n",
      "[71]\ttrain's auc: 0.979241\tvalidation's auc: 0.987648\n",
      "[72]\ttrain's auc: 0.979304\tvalidation's auc: 0.987644\n",
      "[73]\ttrain's auc: 0.979361\tvalidation's auc: 0.987741\n",
      "[74]\ttrain's auc: 0.979436\tvalidation's auc: 0.98781\n",
      "[75]\ttrain's auc: 0.979502\tvalidation's auc: 0.987926\n",
      "[76]\ttrain's auc: 0.979567\tvalidation's auc: 0.988041\n",
      "[77]\ttrain's auc: 0.979665\tvalidation's auc: 0.988201\n",
      "[78]\ttrain's auc: 0.979744\tvalidation's auc: 0.988282\n",
      "[79]\ttrain's auc: 0.979782\tvalidation's auc: 0.988297\n",
      "[80]\ttrain's auc: 0.979861\tvalidation's auc: 0.988425\n",
      "[81]\ttrain's auc: 0.979914\tvalidation's auc: 0.988565\n",
      "[82]\ttrain's auc: 0.979984\tvalidation's auc: 0.988654\n",
      "[83]\ttrain's auc: 0.980016\tvalidation's auc: 0.988683\n",
      "[84]\ttrain's auc: 0.980065\tvalidation's auc: 0.988695\n",
      "[85]\ttrain's auc: 0.980112\tvalidation's auc: 0.988725\n",
      "[86]\ttrain's auc: 0.980161\tvalidation's auc: 0.988831\n",
      "[87]\ttrain's auc: 0.9802\tvalidation's auc: 0.988872\n",
      "[88]\ttrain's auc: 0.980237\tvalidation's auc: 0.988846\n",
      "[89]\ttrain's auc: 0.980289\tvalidation's auc: 0.988922\n",
      "[90]\ttrain's auc: 0.980335\tvalidation's auc: 0.989021\n",
      "[91]\ttrain's auc: 0.980358\tvalidation's auc: 0.989055\n",
      "[92]\ttrain's auc: 0.980406\tvalidation's auc: 0.989098\n",
      "[93]\ttrain's auc: 0.980429\tvalidation's auc: 0.989118\n",
      "[94]\ttrain's auc: 0.980468\tvalidation's auc: 0.989127\n",
      "[95]\ttrain's auc: 0.980512\tvalidation's auc: 0.989181\n",
      "[96]\ttrain's auc: 0.980546\tvalidation's auc: 0.989209\n",
      "[97]\ttrain's auc: 0.980595\tvalidation's auc: 0.989204\n",
      "[98]\ttrain's auc: 0.980621\tvalidation's auc: 0.989259\n",
      "[99]\ttrain's auc: 0.980647\tvalidation's auc: 0.989238\n",
      "[100]\ttrain's auc: 0.980708\tvalidation's auc: 0.989309\n",
      "[101]\ttrain's auc: 0.980732\tvalidation's auc: 0.989315\n",
      "[102]\ttrain's auc: 0.980781\tvalidation's auc: 0.989353\n",
      "[103]\ttrain's auc: 0.980821\tvalidation's auc: 0.989378\n",
      "[104]\ttrain's auc: 0.980858\tvalidation's auc: 0.989446\n",
      "[105]\ttrain's auc: 0.980879\tvalidation's auc: 0.989422\n",
      "[106]\ttrain's auc: 0.98091\tvalidation's auc: 0.989401\n",
      "[107]\ttrain's auc: 0.980931\tvalidation's auc: 0.989429\n",
      "[108]\ttrain's auc: 0.980961\tvalidation's auc: 0.989431\n",
      "[109]\ttrain's auc: 0.980994\tvalidation's auc: 0.989417\n",
      "[110]\ttrain's auc: 0.981009\tvalidation's auc: 0.989426\n",
      "[111]\ttrain's auc: 0.981047\tvalidation's auc: 0.989501\n",
      "[112]\ttrain's auc: 0.981086\tvalidation's auc: 0.989526\n",
      "[113]\ttrain's auc: 0.981124\tvalidation's auc: 0.98956\n",
      "[114]\ttrain's auc: 0.981143\tvalidation's auc: 0.989543\n",
      "[115]\ttrain's auc: 0.98118\tvalidation's auc: 0.989643\n",
      "[116]\ttrain's auc: 0.981197\tvalidation's auc: 0.989626\n",
      "[117]\ttrain's auc: 0.981224\tvalidation's auc: 0.989667\n",
      "[118]\ttrain's auc: 0.981244\tvalidation's auc: 0.98967\n",
      "[119]\ttrain's auc: 0.981276\tvalidation's auc: 0.9897\n",
      "[120]\ttrain's auc: 0.981315\tvalidation's auc: 0.989744\n",
      "[121]\ttrain's auc: 0.981328\tvalidation's auc: 0.98975\n",
      "[122]\ttrain's auc: 0.981362\tvalidation's auc: 0.989815\n",
      "[123]\ttrain's auc: 0.981394\tvalidation's auc: 0.989833\n",
      "[124]\ttrain's auc: 0.981408\tvalidation's auc: 0.989835\n",
      "[125]\ttrain's auc: 0.981432\tvalidation's auc: 0.989826\n",
      "[126]\ttrain's auc: 0.981449\tvalidation's auc: 0.989816\n",
      "[127]\ttrain's auc: 0.98147\tvalidation's auc: 0.98982\n",
      "[128]\ttrain's auc: 0.981484\tvalidation's auc: 0.98982\n",
      "[129]\ttrain's auc: 0.981507\tvalidation's auc: 0.989831\n",
      "[130]\ttrain's auc: 0.981523\tvalidation's auc: 0.98984\n",
      "[131]\ttrain's auc: 0.981542\tvalidation's auc: 0.989869\n",
      "[132]\ttrain's auc: 0.981554\tvalidation's auc: 0.989842\n",
      "[133]\ttrain's auc: 0.981575\tvalidation's auc: 0.989857\n",
      "[134]\ttrain's auc: 0.981615\tvalidation's auc: 0.989893\n",
      "[135]\ttrain's auc: 0.98164\tvalidation's auc: 0.989851\n",
      "[136]\ttrain's auc: 0.98166\tvalidation's auc: 0.989887\n",
      "[137]\ttrain's auc: 0.981678\tvalidation's auc: 0.98986\n",
      "[138]\ttrain's auc: 0.981697\tvalidation's auc: 0.989879\n",
      "[139]\ttrain's auc: 0.981721\tvalidation's auc: 0.989904\n",
      "[140]\ttrain's auc: 0.981745\tvalidation's auc: 0.98996\n",
      "[141]\ttrain's auc: 0.981756\tvalidation's auc: 0.989957\n",
      "[142]\ttrain's auc: 0.981777\tvalidation's auc: 0.989943\n",
      "[143]\ttrain's auc: 0.981801\tvalidation's auc: 0.989968\n",
      "[144]\ttrain's auc: 0.981822\tvalidation's auc: 0.990006\n",
      "[145]\ttrain's auc: 0.981837\tvalidation's auc: 0.989997\n",
      "[146]\ttrain's auc: 0.981852\tvalidation's auc: 0.990008\n",
      "[147]\ttrain's auc: 0.981873\tvalidation's auc: 0.990027\n",
      "[148]\ttrain's auc: 0.981889\tvalidation's auc: 0.990036\n",
      "[149]\ttrain's auc: 0.981906\tvalidation's auc: 0.990044\n",
      "[150]\ttrain's auc: 0.981917\tvalidation's auc: 0.990032\n",
      "[151]\ttrain's auc: 0.981932\tvalidation's auc: 0.990021\n"
     ]
    },
    {
     "name": "stdout",
     "output_type": "stream",
     "text": [
      "[152]\ttrain's auc: 0.981955\tvalidation's auc: 0.990031\n",
      "[153]\ttrain's auc: 0.981967\tvalidation's auc: 0.990045\n",
      "[154]\ttrain's auc: 0.981983\tvalidation's auc: 0.990062\n",
      "[155]\ttrain's auc: 0.982001\tvalidation's auc: 0.990068\n",
      "[156]\ttrain's auc: 0.982019\tvalidation's auc: 0.990138\n",
      "[157]\ttrain's auc: 0.982039\tvalidation's auc: 0.990139\n",
      "[158]\ttrain's auc: 0.982058\tvalidation's auc: 0.990134\n",
      "[159]\ttrain's auc: 0.982068\tvalidation's auc: 0.990141\n",
      "[160]\ttrain's auc: 0.982085\tvalidation's auc: 0.990153\n",
      "[161]\ttrain's auc: 0.98211\tvalidation's auc: 0.990163\n",
      "[162]\ttrain's auc: 0.982122\tvalidation's auc: 0.990173\n",
      "[163]\ttrain's auc: 0.982144\tvalidation's auc: 0.990155\n",
      "[164]\ttrain's auc: 0.982155\tvalidation's auc: 0.990172\n",
      "[165]\ttrain's auc: 0.98217\tvalidation's auc: 0.990144\n",
      "[166]\ttrain's auc: 0.982178\tvalidation's auc: 0.990125\n",
      "[167]\ttrain's auc: 0.982197\tvalidation's auc: 0.990146\n",
      "[168]\ttrain's auc: 0.982207\tvalidation's auc: 0.990149\n",
      "[169]\ttrain's auc: 0.982221\tvalidation's auc: 0.990152\n",
      "[170]\ttrain's auc: 0.98224\tvalidation's auc: 0.990204\n",
      "[171]\ttrain's auc: 0.982264\tvalidation's auc: 0.990239\n",
      "[172]\ttrain's auc: 0.982277\tvalidation's auc: 0.990251\n",
      "[173]\ttrain's auc: 0.982283\tvalidation's auc: 0.990255\n",
      "[174]\ttrain's auc: 0.982299\tvalidation's auc: 0.990273\n",
      "[175]\ttrain's auc: 0.982318\tvalidation's auc: 0.990273\n",
      "[176]\ttrain's auc: 0.982326\tvalidation's auc: 0.990279\n",
      "[177]\ttrain's auc: 0.982342\tvalidation's auc: 0.990262\n",
      "[178]\ttrain's auc: 0.982353\tvalidation's auc: 0.990256\n",
      "[179]\ttrain's auc: 0.982361\tvalidation's auc: 0.99026\n",
      "[180]\ttrain's auc: 0.982387\tvalidation's auc: 0.990251\n",
      "[181]\ttrain's auc: 0.982401\tvalidation's auc: 0.990252\n",
      "[182]\ttrain's auc: 0.982411\tvalidation's auc: 0.990253\n",
      "[183]\ttrain's auc: 0.982429\tvalidation's auc: 0.990258\n",
      "[184]\ttrain's auc: 0.98245\tvalidation's auc: 0.990269\n",
      "[185]\ttrain's auc: 0.982471\tvalidation's auc: 0.990265\n",
      "[186]\ttrain's auc: 0.98249\tvalidation's auc: 0.990269\n",
      "[187]\ttrain's auc: 0.9825\tvalidation's auc: 0.990297\n",
      "[188]\ttrain's auc: 0.982515\tvalidation's auc: 0.990322\n",
      "[189]\ttrain's auc: 0.982521\tvalidation's auc: 0.990295\n",
      "[190]\ttrain's auc: 0.982532\tvalidation's auc: 0.990295\n",
      "[191]\ttrain's auc: 0.982543\tvalidation's auc: 0.990293\n",
      "[192]\ttrain's auc: 0.98256\tvalidation's auc: 0.990291\n",
      "[193]\ttrain's auc: 0.982578\tvalidation's auc: 0.990295\n",
      "[194]\ttrain's auc: 0.982593\tvalidation's auc: 0.9903\n",
      "[195]\ttrain's auc: 0.982601\tvalidation's auc: 0.990293\n",
      "[196]\ttrain's auc: 0.982616\tvalidation's auc: 0.990307\n",
      "[197]\ttrain's auc: 0.982625\tvalidation's auc: 0.990296\n",
      "[198]\ttrain's auc: 0.982637\tvalidation's auc: 0.990308\n",
      "[199]\ttrain's auc: 0.982658\tvalidation's auc: 0.99033\n",
      "[200]\ttrain's auc: 0.982673\tvalidation's auc: 0.990339\n",
      "[201]\ttrain's auc: 0.982686\tvalidation's auc: 0.990349\n",
      "[202]\ttrain's auc: 0.982705\tvalidation's auc: 0.990352\n",
      "[203]\ttrain's auc: 0.982717\tvalidation's auc: 0.990357\n",
      "[204]\ttrain's auc: 0.982734\tvalidation's auc: 0.990363\n",
      "[205]\ttrain's auc: 0.982754\tvalidation's auc: 0.990353\n",
      "[206]\ttrain's auc: 0.982758\tvalidation's auc: 0.990357\n",
      "[207]\ttrain's auc: 0.982771\tvalidation's auc: 0.990353\n",
      "[208]\ttrain's auc: 0.982789\tvalidation's auc: 0.99034\n",
      "[209]\ttrain's auc: 0.982794\tvalidation's auc: 0.990351\n",
      "[210]\ttrain's auc: 0.982801\tvalidation's auc: 0.990343\n",
      "[211]\ttrain's auc: 0.982817\tvalidation's auc: 0.990361\n",
      "[212]\ttrain's auc: 0.982834\tvalidation's auc: 0.990351\n",
      "[213]\ttrain's auc: 0.982849\tvalidation's auc: 0.990362\n",
      "[214]\ttrain's auc: 0.982866\tvalidation's auc: 0.990363\n",
      "[215]\ttrain's auc: 0.982881\tvalidation's auc: 0.990367\n",
      "[216]\ttrain's auc: 0.982892\tvalidation's auc: 0.990362\n",
      "[217]\ttrain's auc: 0.982908\tvalidation's auc: 0.990359\n",
      "[218]\ttrain's auc: 0.98292\tvalidation's auc: 0.990378\n",
      "[219]\ttrain's auc: 0.982931\tvalidation's auc: 0.99035\n",
      "[220]\ttrain's auc: 0.98294\tvalidation's auc: 0.990364\n",
      "[221]\ttrain's auc: 0.98296\tvalidation's auc: 0.990345\n",
      "[222]\ttrain's auc: 0.982974\tvalidation's auc: 0.990318\n",
      "[223]\ttrain's auc: 0.98299\tvalidation's auc: 0.990329\n",
      "[224]\ttrain's auc: 0.982996\tvalidation's auc: 0.99034\n",
      "[225]\ttrain's auc: 0.983008\tvalidation's auc: 0.990343\n",
      "[226]\ttrain's auc: 0.983021\tvalidation's auc: 0.990353\n",
      "[227]\ttrain's auc: 0.98303\tvalidation's auc: 0.990351\n",
      "[228]\ttrain's auc: 0.983047\tvalidation's auc: 0.990359\n",
      "[229]\ttrain's auc: 0.983061\tvalidation's auc: 0.990358\n",
      "[230]\ttrain's auc: 0.983072\tvalidation's auc: 0.990361\n",
      "[231]\ttrain's auc: 0.983086\tvalidation's auc: 0.990362\n",
      "[232]\ttrain's auc: 0.983091\tvalidation's auc: 0.990349\n",
      "[233]\ttrain's auc: 0.983105\tvalidation's auc: 0.990327\n",
      "[234]\ttrain's auc: 0.98311\tvalidation's auc: 0.990331\n",
      "[235]\ttrain's auc: 0.983116\tvalidation's auc: 0.990336\n",
      "[236]\ttrain's auc: 0.983121\tvalidation's auc: 0.990324\n",
      "[237]\ttrain's auc: 0.983131\tvalidation's auc: 0.990334\n",
      "[238]\ttrain's auc: 0.983145\tvalidation's auc: 0.99034\n",
      "[239]\ttrain's auc: 0.983165\tvalidation's auc: 0.990342\n",
      "[240]\ttrain's auc: 0.983172\tvalidation's auc: 0.990352\n",
      "[241]\ttrain's auc: 0.983183\tvalidation's auc: 0.990339\n",
      "[242]\ttrain's auc: 0.983188\tvalidation's auc: 0.990329\n",
      "[243]\ttrain's auc: 0.9832\tvalidation's auc: 0.990328\n",
      "[244]\ttrain's auc: 0.983211\tvalidation's auc: 0.990326\n",
      "[245]\ttrain's auc: 0.983217\tvalidation's auc: 0.990322\n",
      "[246]\ttrain's auc: 0.98323\tvalidation's auc: 0.990306\n",
      "[247]\ttrain's auc: 0.98324\tvalidation's auc: 0.990287\n",
      "[248]\ttrain's auc: 0.983252\tvalidation's auc: 0.990278\n",
      "Early stopping, best iteration is:\n",
      "[218]\ttrain's auc: 0.98292\tvalidation's auc: 0.990378\n"
     ]
    }
   ],
   "source": [
    "evals_results = {}\n",
    "num_boost_round = 1000\n",
    "early_stopping_rounds = 30\n",
    "\n",
    "booster = lgb.train(\n",
    "     lgb_params, \n",
    "     lgbtrain, \n",
    "     valid_sets=[lgbtrain, lgbval], \n",
    "     valid_names=['train','validation'], \n",
    "     evals_result=evals_results, \n",
    "     num_boost_round=num_boost_round,\n",
    "     early_stopping_rounds=early_stopping_rounds,\n",
    "     verbose_eval=1\n",
    "    )"
   ]
  },
  {
   "cell_type": "code",
   "execution_count": 30,
   "metadata": {},
   "outputs": [],
   "source": [
    "ax = lgb.plot_importance(booster, max_num_features=25)"
   ]
  },
  {
   "cell_type": "code",
   "execution_count": 31,
   "metadata": {},
   "outputs": [
    {
     "data": {
      "image/png": "[encoded data removed]",
      "text/plain": [
       "<matplotlib.figure.Figure at 0x1082ecba8>"
      ]
     },
     "metadata": {},
     "output_type": "display_data"
    }
   ],
   "source": [
    "plt.show()"
   ]
  },
  {
   "cell_type": "markdown",
   "metadata": {},
   "source": [
    "Prediction"
   ]
  },
  {
   "cell_type": "code",
   "execution_count": 32,
   "metadata": {},
   "outputs": [],
   "source": [
    "preditions=booster.predict(concat_df.iloc[num_train:][predictors].values)"
   ]
  },
  {
   "cell_type": "markdown",
   "metadata": {},
   "source": [
    "preditions_2=booster.predict(concat_df.iloc[num_train:][predictors].values)"
   ]
  },
  {
   "cell_type": "markdown",
   "metadata": {},
   "source": [
    "preditions_3 = 0.3 * preditions_2 + 0.7 * preditions"
   ]
  },
  {
   "cell_type": "markdown",
   "metadata": {},
   "source": [
    "Submission"
   ]
  },
  {
   "cell_type": "code",
   "execution_count": 34,
   "metadata": {},
   "outputs": [],
   "source": [
    "sub = pd.read_csv('data/sample_submission.csv.zip')"
   ]
  },
  {
   "cell_type": "code",
   "execution_count": 35,
   "metadata": {},
   "outputs": [],
   "source": [
    "sub['is_attributed'] = preditions"
   ]
  },
  {
   "cell_type": "code",
   "execution_count": 36,
   "metadata": {},
   "outputs": [],
   "source": [
    "sub.to_csv('output/lgb_sub14_new_feature.csv', float_format='%.8f', index=False)"
   ]
  },
  {
   "cell_type": "code",
   "execution_count": null,
   "metadata": {},
   "outputs": [],
   "source": []
  }
 ],
 "metadata": {
  "kernelspec": {
   "display_name": "Python 3",
   "language": "python",
   "name": "python3"
  },
  "language_info": {
   "codemirror_mode": {
    "name": "ipython",
    "version": 3
   },
   "file_extension": ".py",
   "mimetype": "text/x-python",
   "name": "python",
   "nbconvert_exporter": "python",
   "pygments_lexer": "ipython3",
   "version": "3.6.5"
  }
 },
 "nbformat": 4,
 "nbformat_minor": 2
}
