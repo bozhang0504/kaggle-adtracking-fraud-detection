{
 "cells": [
  {
   "cell_type": "code",
   "execution_count": 11,
   "metadata": {},
   "outputs": [
    {
     "name": "stderr",
     "output_type": "stream",
     "text": [
      "/anaconda/lib/python3.6/site-packages/sklearn/cross_validation.py:41: DeprecationWarning: This module was deprecated in version 0.18 in favor of the model_selection module into which all the refactored classes and functions are moved. Also note that the interface of the new CV iterators are different from that of this module. This module will be removed in 0.20.\n",
      "  \"This module will be removed in 0.20.\", DeprecationWarning)\n"
     ]
    }
   ],
   "source": [
    "import pandas as pd\n",
    "import time\n",
    "import numpy as np\n",
    "from sklearn.cross_validation import train_test_split\n",
    "import lightgbm as lgb\n",
    "import gc\n",
    "import matplotlib.pyplot as plt\n",
    "import os"
   ]
  },
  {
   "cell_type": "code",
   "execution_count": 138,
   "metadata": {},
   "outputs": [
    {
     "data": {
      "text/plain": [
       "40"
      ]
     },
     "execution_count": 138,
     "metadata": {},
     "output_type": "execute_result"
    }
   ],
   "source": [
    "gc.collect()"
   ]
  },
  {
   "cell_type": "code",
   "execution_count": 134,
   "metadata": {},
   "outputs": [],
   "source": [
    "debug=0\n",
    "if debug:\n",
    "    print('*** debug parameter set: this is a test run for debugging purposes ***')"
   ]
  },
  {
   "cell_type": "code",
   "execution_count": 139,
   "metadata": {},
   "outputs": [],
   "source": [
    "nrows = 184903891-1\n",
    "nchunk = 40000000\n",
    "val_size = 2500000\n",
    "\n",
    "frm = 144903891\n",
    "\n",
    "if debug:\n",
    "    frm=0\n",
    "    nchunk=100000\n",
    "    val_size=10000\n",
    "\n",
    "to = frm + nchunk"
   ]
  },
  {
   "cell_type": "code",
   "execution_count": 140,
   "metadata": {},
   "outputs": [],
   "source": [
    "dtypes = {\n",
    "            'ip'            : 'uint32',\n",
    "            'app'           : 'uint16',\n",
    "            'device'        : 'uint16',\n",
    "            'os'            : 'uint16',\n",
    "            'channel'       : 'uint16',\n",
    "            'is_attributed' : 'uint8',\n",
    "            'click_id'      : 'uint32',\n",
    "            }"
   ]
  },
  {
   "cell_type": "code",
   "execution_count": 141,
   "metadata": {},
   "outputs": [
    {
     "name": "stdout",
     "output_type": "stream",
     "text": [
      "loading train data... 144903891 184903891\n"
     ]
    }
   ],
   "source": [
    "print('loading train data...', frm, to)\n",
    "train_df_tmp = pd.read_csv(\"data//train.csv.zip\", \n",
    "                           parse_dates = ['click_time'], \n",
    "                           skiprows = range(1, frm), \n",
    "                           nrows = to - frm, \n",
    "                           dtype = dtypes, \n",
    "                           usecols = ['ip','app','device','os', 'channel', 'click_time', 'is_attributed'],\n",
    "                           chunksize = 10**6)\n",
    "\n",
    "train_df = pd.concat(train_df_tmp, ignore_index=True)"
   ]
  },
  {
   "cell_type": "code",
   "execution_count": 143,
   "metadata": {},
   "outputs": [
    {
     "data": {
      "text/plain": [
       "465"
      ]
     },
     "execution_count": 143,
     "metadata": {},
     "output_type": "execute_result"
    }
   ],
   "source": [
    "del train_df_tmp\n",
    "gc.collect()"
   ]
  },
  {
   "cell_type": "code",
   "execution_count": 147,
   "metadata": {},
   "outputs": [
    {
     "name": "stdout",
     "output_type": "stream",
     "text": [
      "loading test data...\n"
     ]
    }
   ],
   "source": [
    "print('loading test data...')\n",
    "if debug:\n",
    "    test_df = pd.read_csv(\"data/test.csv.zip\", \n",
    "                          nrows=100000, \n",
    "                          parse_dates=['click_time'], \n",
    "                          dtype=dtypes, \n",
    "                          usecols=['ip','app','device','os', 'channel', 'click_time', 'click_id'])\n",
    "else:\n",
    "    test_df = pd.read_csv(\"data/test.csv.zip\", \n",
    "                              parse_dates=['click_time'], \n",
    "                              dtype=dtypes, \n",
    "                              usecols=['ip','app','device','os', 'channel', 'click_time', 'click_id'])"
   ]
  },
  {
   "cell_type": "code",
   "execution_count": 148,
   "metadata": {},
   "outputs": [],
   "source": [
    "len_train = len(train_df)\n",
    "train_df = train_df.append(test_df)"
   ]
  },
  {
   "cell_type": "code",
   "execution_count": 149,
   "metadata": {},
   "outputs": [
    {
     "data": {
      "text/plain": [
       "219"
      ]
     },
     "execution_count": 149,
     "metadata": {},
     "output_type": "execute_result"
    }
   ],
   "source": [
    "del test_df\n",
    "gc.collect()"
   ]
  },
  {
   "cell_type": "code",
   "execution_count": 150,
   "metadata": {},
   "outputs": [
    {
     "name": "stdout",
     "output_type": "stream",
     "text": [
      "Extracting new features...\n"
     ]
    },
    {
     "data": {
      "text/plain": [
       "14"
      ]
     },
     "execution_count": 150,
     "metadata": {},
     "output_type": "execute_result"
    }
   ],
   "source": [
    "print('Extracting new features...')\n",
    "train_df['hour'] = pd.to_datetime(train_df.click_time).dt.hour.astype('uint8')\n",
    "train_df['day'] = pd.to_datetime(train_df.click_time).dt.day.astype('uint8')\n",
    "\n",
    "gc.collect()"
   ]
  },
  {
   "cell_type": "markdown",
   "metadata": {},
   "source": [
    "### Agg"
   ]
  },
  {
   "cell_type": "code",
   "execution_count": 152,
   "metadata": {},
   "outputs": [
    {
     "name": "stdout",
     "output_type": "stream",
     "text": [
      "selcols ['ip', 'channel'] - nunique\n",
      "selcols ['ip', 'device', 'os', 'app'] - cumcount\n",
      "selcols ['ip', 'day', 'hour'] - nunique\n",
      "selcols ['ip', 'app'] - nunique\n",
      "selcols ['ip', 'app', 'os'] - nunique\n",
      "selcols ['ip', 'device'] - nunique\n",
      "selcols ['app', 'channel'] - nunique\n",
      "selcols ['ip', 'os'] - cumcount\n",
      "selcols ['ip', 'device', 'os', 'app'] - nunique\n"
     ]
    }
   ],
   "source": [
    "naddfeat=9\n",
    "save_tmp = 0\n",
    "agg = ['count', 'mean', 'var', 'skew', 'nunique', 'cumcount']\n",
    "\n",
    "for i in range(0, naddfeat):\n",
    "    if i==0: selcols=['ip', 'channel']; QQ=4;\n",
    "    if i==1: selcols=['ip', 'device', 'os', 'app']; QQ=5;\n",
    "    if i==2: selcols=['ip', 'day', 'hour']; QQ=4;\n",
    "    if i==3: selcols=['ip', 'app']; QQ=4;\n",
    "    if i==4: selcols=['ip', 'app', 'os']; QQ=4;\n",
    "    if i==5: selcols=['ip', 'device']; QQ=4;\n",
    "    if i==6: selcols=['app', 'channel']; QQ=4;\n",
    "    if i==7: selcols=['ip', 'os']; QQ=5;\n",
    "    if i==8: selcols=['ip', 'device', 'os', 'app']; QQ=4;\n",
    "    print('selcols', selcols, '-', agg[QQ], '[%d of %d]' %[i+1, naddfeat])\n",
    "\n",
    "    filename='agg_%s.csv.gz'%(agg[QQ]+'_'+'_'.join(selcols))\n",
    "    \n",
    "    if os.path.exists(filename):\n",
    "        if QQ==5: \n",
    "            gp=pd.read_csv(filename,header=None)\n",
    "            train_df['cumcnt_'+'_'.join(selcols)]=gp\n",
    "        else: \n",
    "            gp=pd.read_csv(filename)\n",
    "            train_df = train_df.merge(gp, on=selcols[0:len(selcols)-1], how='left')\n",
    "    else:\n",
    "        if QQ==0:\n",
    "            gp = train_df[selcols].groupby(by=selcols[0:len(selcols)-1])[selcols[len(selcols)-1]]\\\n",
    "                                  .count()\\\n",
    "                                  .reset_index()\\\n",
    "                                  .rename(index=str, columns={selcols[len(selcols)-1]: 'cnt_'+'_'.join(selcols)})\n",
    "            train_df = train_df.merge(gp, on=selcols[0:len(selcols)-1], how='left')\n",
    "            \n",
    "        if QQ==1:\n",
    "            gp = train_df[selcols].groupby(by=selcols[0:len(selcols)-1])[selcols[len(selcols)-1]]\\\n",
    "                                  .mean()\\\n",
    "                                  .reset_index()\\\n",
    "                                  .rename(index=str, columns={selcols[len(selcols)-1]: 'X'+str(i)})\n",
    "            train_df = train_df.merge(gp, on=selcols[0:len(selcols)-1], how='left')\n",
    "            \n",
    "        if QQ==2:\n",
    "            gp = train_df[selcols].groupby(by=selcols[0:len(selcols)-1])[selcols[len(selcols)-1]]\\\n",
    "                                  .var()\\\n",
    "                                  .reset_index()\\\n",
    "                                  .rename(index=str, columns={selcols[len(selcols)-1]: 'X'+str(i)})\n",
    "            train_df = train_df.merge(gp, on=selcols[0:len(selcols)-1], how='left')\n",
    "            \n",
    "        if QQ==3:\n",
    "            gp = train_df[selcols].groupby(by=selcols[0:len(selcols)-1])[selcols[len(selcols)-1]]\\\n",
    "                                  .skew()\\\n",
    "                                  .reset_index()\\\n",
    "                                  .rename(index=str, columns={selcols[len(selcols)-1]: 'X'+str(i)})\n",
    "            train_df = train_df.merge(gp, on=selcols[0:len(selcols)-1], how='left')\n",
    "            \n",
    "        if QQ==4:\n",
    "            gp = train_df[selcols].groupby(by=selcols[0:len(selcols)-1])[selcols[len(selcols)-1]]\\\n",
    "                                  .nunique()\\\n",
    "                                  .reset_index()\\\n",
    "                                  .rename(index=str, columns={selcols[len(selcols)-1]: 'nuniq_'+'_'.join(selcols)})\n",
    "            train_df = train_df.merge(gp, on=selcols[0:len(selcols)-1], how='left')\n",
    "            \n",
    "        if QQ==5:\n",
    "            gp = train_df[selcols].groupby(by=selcols[0:len(selcols)-1])[selcols[len(selcols)-1]]\\\n",
    "                                  .cumcount()\n",
    "            train_df['cumcnt_'+'_'.join(selcols)] = gp.values\n",
    "        \n",
    "        if save_tmp:\n",
    "            gp.to_csv('tmp/' + filename, index=False, compression='gzip')"
   ]
  },
  {
   "cell_type": "code",
   "execution_count": 153,
   "metadata": {},
   "outputs": [
    {
     "data": {
      "text/plain": [
       "235"
      ]
     },
     "execution_count": 153,
     "metadata": {},
     "output_type": "execute_result"
    }
   ],
   "source": [
    "del gp\n",
    "gc.collect()  "
   ]
  },
  {
   "cell_type": "code",
   "execution_count": 176,
   "metadata": {},
   "outputs": [
    {
     "name": "stdout",
     "output_type": "stream",
     "text": [
      "grouping by ip-day-hour combination...\n"
     ]
    },
    {
     "data": {
      "text/plain": [
       "61"
      ]
     },
     "execution_count": 176,
     "metadata": {},
     "output_type": "execute_result"
    }
   ],
   "source": [
    "print('grouping by ip-day-hour combination...')\n",
    "gp = train_df[['ip','day','hour','channel']].groupby(by=['ip','day','hour'])[['channel']]\\\n",
    "                                            .count()\\\n",
    "                                            .reset_index()\\\n",
    "                                            .rename(index=str, columns={'channel': 'ip_tcount'})\n",
    "train_df = train_df.merge(gp, on=['ip','day','hour'], how='left')\n",
    "\n",
    "del gp\n",
    "gc.collect()"
   ]
  },
  {
   "cell_type": "code",
   "execution_count": 177,
   "metadata": {},
   "outputs": [
    {
     "name": "stdout",
     "output_type": "stream",
     "text": [
      "grouping by ip-app combination...\n"
     ]
    },
    {
     "data": {
      "text/plain": [
       "101"
      ]
     },
     "execution_count": 177,
     "metadata": {},
     "output_type": "execute_result"
    }
   ],
   "source": [
    "print('grouping by ip-app combination...')\n",
    "gp = train_df[['ip', 'app', 'channel']].groupby(by=['ip', 'app'])[['channel']]\\\n",
    "                                       .count()\\\n",
    "                                       .reset_index()\\\n",
    "                                       .rename(index=str, columns={'channel': 'ip_app_count'})\n",
    "train_df = train_df.merge(gp, on=['ip','app'], how='left')\n",
    "del gp\n",
    "gc.collect()"
   ]
  },
  {
   "cell_type": "code",
   "execution_count": 178,
   "metadata": {},
   "outputs": [
    {
     "name": "stdout",
     "output_type": "stream",
     "text": [
      "grouping by ip-app-os combination...\n"
     ]
    },
    {
     "data": {
      "text/plain": [
       "117"
      ]
     },
     "execution_count": 178,
     "metadata": {},
     "output_type": "execute_result"
    }
   ],
   "source": [
    "print('grouping by ip-app-os combination...')\n",
    "gp = train_df[['ip','app', 'os', 'channel']].groupby(by=['ip', 'app', 'os'])[['channel']]\\\n",
    "                                            .count()\\\n",
    "                                            .reset_index()\\\n",
    "                                            .rename(index=str, columns={'channel': 'ip_app_os_count'})\n",
    "train_df = train_df.merge(gp, on=['ip','app', 'os'], how='left')\n",
    "del gp\n",
    "gc.collect()"
   ]
  },
  {
   "cell_type": "code",
   "execution_count": 179,
   "metadata": {},
   "outputs": [
    {
     "name": "stdout",
     "output_type": "stream",
     "text": [
      "grouping by : ip_day_chl_var_hour\n"
     ]
    },
    {
     "data": {
      "text/plain": [
       "117"
      ]
     },
     "execution_count": 179,
     "metadata": {},
     "output_type": "execute_result"
    }
   ],
   "source": [
    "# Adding features with var and mean hour (inspired from nuhsikander's script)\n",
    "print('grouping by : ip_day_chl_var_hour')\n",
    "gp = train_df[['ip','day','hour','channel']].groupby(by=['ip','day','channel'])[['hour']]\\\n",
    "                                            .var()\\\n",
    "                                            .reset_index()\\\n",
    "                                            .rename(index=str, columns={'hour': 'ip_day_chl_var_hour'})\n",
    "train_df = train_df.merge(gp, on=['ip','day','channel'], how='left')\n",
    "del gp\n",
    "gc.collect()"
   ]
  },
  {
   "cell_type": "code",
   "execution_count": 180,
   "metadata": {},
   "outputs": [
    {
     "name": "stdout",
     "output_type": "stream",
     "text": [
      "grouping by : ip_app_os_var_hour\n"
     ]
    },
    {
     "data": {
      "text/plain": [
       "116"
      ]
     },
     "execution_count": 180,
     "metadata": {},
     "output_type": "execute_result"
    }
   ],
   "source": [
    "print('grouping by : ip_app_os_var_hour')\n",
    "gp = train_df[['ip','app', 'os', 'hour']].groupby(by=['ip', 'app', 'os'])[['hour']]\\\n",
    "                                         .var()\\\n",
    "                                         .reset_index()\\\n",
    "                                         .rename(index=str, columns={'hour': 'ip_app_os_var'})\n",
    "train_df = train_df.merge(gp, on=['ip','app', 'os'], how='left')\n",
    "del gp\n",
    "gc.collect()"
   ]
  },
  {
   "cell_type": "code",
   "execution_count": 181,
   "metadata": {},
   "outputs": [
    {
     "name": "stdout",
     "output_type": "stream",
     "text": [
      "grouping by : ip_app_channel_var_day\n"
     ]
    },
    {
     "data": {
      "text/plain": [
       "116"
      ]
     },
     "execution_count": 181,
     "metadata": {},
     "output_type": "execute_result"
    }
   ],
   "source": [
    "print('grouping by : ip_app_channel_var_day')\n",
    "gp = train_df[['ip','app', 'channel', 'day']].groupby(by=['ip', 'app', 'channel'])[['day']]\\\n",
    "                                             .var()\\\n",
    "                                             .reset_index()\\\n",
    "                                             .rename(index=str, columns={'day': 'ip_app_channel_var_day'})\n",
    "train_df = train_df.merge(gp, on=['ip','app', 'channel'], how='left')\n",
    "del gp\n",
    "gc.collect()"
   ]
  },
  {
   "cell_type": "code",
   "execution_count": 182,
   "metadata": {},
   "outputs": [
    {
     "name": "stdout",
     "output_type": "stream",
     "text": [
      "grouping by : ip_app_chl_mean_hour\n",
      "merging...\n"
     ]
    },
    {
     "data": {
      "text/plain": [
       "116"
      ]
     },
     "execution_count": 182,
     "metadata": {},
     "output_type": "execute_result"
    }
   ],
   "source": [
    "print('grouping by : ip_app_chl_mean_hour')\n",
    "gp = train_df[['ip','app', 'channel','hour']].groupby(by=['ip', 'app', 'channel'])[['hour']]\\\n",
    "                                             .mean()\\\n",
    "                                             .reset_index()\\\n",
    "                                             .rename(index=str, columns={'hour': 'ip_app_channel_mean_hour'})\n",
    "print(\"merging...\")\n",
    "train_df = train_df.merge(gp, on=['ip','app', 'channel'], how='left')\n",
    "del gp\n",
    "gc.collect()"
   ]
  },
  {
   "cell_type": "code",
   "execution_count": 183,
   "metadata": {},
   "outputs": [
    {
     "name": "stdout",
     "output_type": "stream",
     "text": [
      "vars and data type: \n",
      "<class 'pandas.core.frame.DataFrame'>\n",
      "Int64Index: 58790469 entries, 0 to 58790468\n",
      "Data columns (total 26 columns):\n",
      "app                         uint16\n",
      "channel                     uint16\n",
      "click_id                    float64\n",
      "click_time                  datetime64[ns]\n",
      "device                      uint16\n",
      "ip                          uint32\n",
      "is_attributed               float64\n",
      "os                          uint16\n",
      "hour                        uint8\n",
      "day                         uint8\n",
      "nuniq_ip_channel            int64\n",
      "cumcnt_ip_device_os_app     int64\n",
      "nuniq_ip_day_hour           int64\n",
      "nuniq_ip_app                int64\n",
      "nuniq_ip_app_os             int64\n",
      "nuniq_ip_device             int64\n",
      "nuniq_app_channel           int64\n",
      "cumcnt_ip_os                int64\n",
      "nuniq_ip_device_os_app      int64\n",
      "ip_tcount                   int64\n",
      "ip_app_count                int64\n",
      "ip_app_os_count             int64\n",
      "ip_tchan_count              float64\n",
      "ip_app_os_var               float64\n",
      "ip_app_channel_var_day      float64\n",
      "ip_app_channel_mean_hour    float64\n",
      "dtypes: datetime64[ns](1), float64(6), int64(12), uint16(4), uint32(1), uint8(2)\n",
      "memory usage: 9.5 GB\n"
     ]
    }
   ],
   "source": [
    "print(\"vars and data type: \")\n",
    "train_df.info()\n",
    "train_df['ip_tcount'] = train_df['ip_tcount'].astype('uint16')\n",
    "train_df['ip_app_count'] = train_df['ip_app_count'].astype('uint16')\n",
    "train_df['ip_app_os_count'] = train_df['ip_app_os_count'].astype('uint16')"
   ]
  },
  {
   "cell_type": "code",
   "execution_count": 192,
   "metadata": {},
   "outputs": [],
   "source": [
    "to_write = list(train_df.columns[10:])\n",
    "train_df_write = train_df[to_write]"
   ]
  },
  {
   "cell_type": "code",
   "execution_count": 193,
   "metadata": {},
   "outputs": [],
   "source": [
    "train_df_write.to_csv('tmp/agg_features.csv.gz', index=False, compression='gzip', chunksize=3*10**6, float_format='%.8f')"
   ]
  },
  {
   "cell_type": "code",
   "execution_count": null,
   "metadata": {},
   "outputs": [],
   "source": []
  }
 ],
 "metadata": {
  "kernelspec": {
   "display_name": "Python 3",
   "language": "python",
   "name": "python3"
  },
  "language_info": {
   "codemirror_mode": {
    "name": "ipython",
    "version": 3
   },
   "file_extension": ".py",
   "mimetype": "text/x-python",
   "name": "python",
   "nbconvert_exporter": "python",
   "pygments_lexer": "ipython3",
   "version": "3.6.0"
  }
 },
 "nbformat": 4,
 "nbformat_minor": 2
}
